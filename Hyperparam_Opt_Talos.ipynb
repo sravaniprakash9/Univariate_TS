{
  "nbformat": 4,
  "nbformat_minor": 0,
  "metadata": {
    "colab": {
      "name": "Hyperparam_Opt_Talos.ipynb",
      "version": "0.3.2",
      "provenance": []
    },
    "kernelspec": {
      "name": "python3",
      "display_name": "Python 3"
    }
  },
  "cells": [
    {
      "metadata": {
        "id": "1_uk4TMvVzyW",
        "colab_type": "code",
        "colab": {}
      },
      "cell_type": "code",
      "source": [
        "!pip install git+https://github.com/autonomio/talos@daily-dev"
      ],
      "execution_count": 0,
      "outputs": []
    },
    {
      "metadata": {
        "id": "11-vmRraWAuv",
        "colab_type": "code",
        "colab": {}
      },
      "cell_type": "code",
      "source": [
        "import pandas\n",
        "import matplotlib.pyplot as plt\n",
        "import numpy as np\n",
        "import math\n",
        "import talos as ta\n",
        "\n",
        "from talos.model.early_stopper import early_stopper\n",
        "\n",
        "from keras.models import Sequential\n",
        "from sklearn.preprocessing import MinMaxScaler\n",
        "from sklearn.metrics import mean_squared_error\n",
        "\n",
        "from keras.layers import LSTM, Input, Dense\n",
        "from keras.models import Model\n",
        "from keras.utils.vis_utils import plot_model\n",
        "from keras.activations import relu, elu\n",
        "\n",
        "from deap import base, creator, tools, algorithms\n",
        "from scipy.stats import bernoulli\n",
        "from sklearn.model_selection import train_test_split as split\n",
        "from bitstring import BitArray\n"
      ],
      "execution_count": 0,
      "outputs": []
    },
    {
      "metadata": {
        "id": "8HV-lSo8WCoW",
        "colab_type": "code",
        "outputId": "3b62be9a-73dc-46e8-b208-4f2999e7f58f",
        "colab": {
          "base_uri": "https://localhost:8080/",
          "height": 198
        }
      },
      "cell_type": "code",
      "source": [
        "# load the dataset\n",
        "dataframe = pandas.read_csv('IBM.1Min.TradesOnly.20160128.csv', usecols=[6], engine='python', skipfooter=3)\n",
        "dataset = dataframe.values\n",
        "dataset = dataset.astype('float32')\n",
        "dataframe.head(5)"
      ],
      "execution_count": 178,
      "outputs": [
        {
          "output_type": "execute_result",
          "data": {
            "text/html": [
              "<div>\n",
              "<style scoped>\n",
              "    .dataframe tbody tr th:only-of-type {\n",
              "        vertical-align: middle;\n",
              "    }\n",
              "\n",
              "    .dataframe tbody tr th {\n",
              "        vertical-align: top;\n",
              "    }\n",
              "\n",
              "    .dataframe thead th {\n",
              "        text-align: right;\n",
              "    }\n",
              "</style>\n",
              "<table border=\"1\" class=\"dataframe\">\n",
              "  <thead>\n",
              "    <tr style=\"text-align: right;\">\n",
              "      <th></th>\n",
              "      <th>LastTradePrice</th>\n",
              "    </tr>\n",
              "  </thead>\n",
              "  <tbody>\n",
              "    <tr>\n",
              "      <th>0</th>\n",
              "      <td>121.95</td>\n",
              "    </tr>\n",
              "    <tr>\n",
              "      <th>1</th>\n",
              "      <td>121.78</td>\n",
              "    </tr>\n",
              "    <tr>\n",
              "      <th>2</th>\n",
              "      <td>120.88</td>\n",
              "    </tr>\n",
              "    <tr>\n",
              "      <th>3</th>\n",
              "      <td>120.88</td>\n",
              "    </tr>\n",
              "    <tr>\n",
              "      <th>4</th>\n",
              "      <td>120.88</td>\n",
              "    </tr>\n",
              "  </tbody>\n",
              "</table>\n",
              "</div>"
            ],
            "text/plain": [
              "   LastTradePrice\n",
              "0          121.95\n",
              "1          121.78\n",
              "2          120.88\n",
              "3          120.88\n",
              "4          120.88"
            ]
          },
          "metadata": {
            "tags": []
          },
          "execution_count": 178
        }
      ]
    },
    {
      "metadata": {
        "id": "eAMvxisSQdL1",
        "colab_type": "code",
        "colab": {}
      },
      "cell_type": "code",
      "source": [
        "# normalize the dataset\n",
        "scaler = MinMaxScaler(feature_range=(0, 1))\n",
        "dataset = scaler.fit_transform(dataset)"
      ],
      "execution_count": 0,
      "outputs": []
    },
    {
      "metadata": {
        "id": "WbNUhTJBQlQV",
        "colab_type": "code",
        "colab": {
          "base_uri": "https://localhost:8080/",
          "height": 35
        },
        "outputId": "ba4fe03b-c868-4734-a2a6-422f4553f976"
      },
      "cell_type": "code",
      "source": [
        "dataset.shape"
      ],
      "execution_count": 139,
      "outputs": [
        {
          "output_type": "execute_result",
          "data": {
            "text/plain": [
              "(409, 1)"
            ]
          },
          "metadata": {
            "tags": []
          },
          "execution_count": 139
        }
      ]
    },
    {
      "metadata": {
        "id": "GVqqmq-eWIDI",
        "colab_type": "code",
        "colab": {}
      },
      "cell_type": "code",
      "source": [
        "# split into train and test sets\n",
        "train_size = int(len(dataset) * 0.70)\n",
        "test_size = len(dataset) - train_size\n",
        "train, test = dataset[0:train_size,:], dataset[train_size:len(dataset),:]\n"
      ],
      "execution_count": 0,
      "outputs": []
    },
    {
      "metadata": {
        "id": "FtnTpKnENxgW",
        "colab_type": "code",
        "colab": {
          "base_uri": "https://localhost:8080/",
          "height": 35
        },
        "outputId": "f37a5de4-79d1-4b04-efa2-961897cc975b"
      },
      "cell_type": "code",
      "source": [
        "train.shape, test.shape"
      ],
      "execution_count": 181,
      "outputs": [
        {
          "output_type": "execute_result",
          "data": {
            "text/plain": [
              "((286, 1), (123, 1))"
            ]
          },
          "metadata": {
            "tags": []
          },
          "execution_count": 181
        }
      ]
    },
    {
      "metadata": {
        "id": "mdi8GQPkWIpw",
        "colab_type": "code",
        "colab": {}
      },
      "cell_type": "code",
      "source": [
        " #convert an array of values into a dataset matrix\n",
        "def create_dataset(dataset, look_back):\n",
        "\tdataX, dataY = [], []\n",
        "\tfor i in range(len(dataset)-look_back-1):\n",
        "\t\ta = dataset[i:(i+look_back), 0]\n",
        "\t\tdataX.append(a)\n",
        "\t\tdataY.append(dataset[i + look_back, 0])\n",
        "\treturn np.array(dataX), np.array(dataY)"
      ],
      "execution_count": 0,
      "outputs": []
    },
    {
      "metadata": {
        "id": "I0nmn2xMWKBu",
        "colab_type": "code",
        "colab": {}
      },
      "cell_type": "code",
      "source": [
        "# reshape into X=t and Y=t+1\n",
        "look_back = 1\n",
        "trainX, trainY = create_dataset(train, look_back)\n",
        "testX, testY = create_dataset(test, look_back)\n",
        "#plt.plot(train)\n"
      ],
      "execution_count": 0,
      "outputs": []
    },
    {
      "metadata": {
        "id": "OYTFucikN9R5",
        "colab_type": "code",
        "colab": {
          "base_uri": "https://localhost:8080/",
          "height": 35
        },
        "outputId": "8b9ada0d-4326-4867-945a-efa56446d2a0"
      },
      "cell_type": "code",
      "source": [
        "trainY.shape, testY.shape"
      ],
      "execution_count": 184,
      "outputs": [
        {
          "output_type": "execute_result",
          "data": {
            "text/plain": [
              "((284,), (121,))"
            ]
          },
          "metadata": {
            "tags": []
          },
          "execution_count": 184
        }
      ]
    },
    {
      "metadata": {
        "id": "AJ-1D0FJN6a3",
        "colab_type": "code",
        "colab": {}
      },
      "cell_type": "code",
      "source": [
        "# reshape input to be [samples, time steps, features]\n",
        "trainX = np.reshape(trainX, (trainX.shape[0], 1, trainX.shape[1]))\n",
        "testX = np.reshape(testX, (testX.shape[0], 1, testX.shape[1]))\n",
        "\n",
        "# reshape into column arrays\n",
        "y_train = np.reshape(y_train, (y_train.shape[0], 1))\n",
        "y_val = np.reshape(y_val, (y_val.shape[0], 1))\n",
        "testY=np.reshape(testY, (testY.shape[0], 1))\n"
      ],
      "execution_count": 0,
      "outputs": []
    },
    {
      "metadata": {
        "id": "72fOOxD7PNG0",
        "colab_type": "code",
        "colab": {
          "base_uri": "https://localhost:8080/",
          "height": 35
        },
        "outputId": "2d2ee61a-d7da-42ee-a62d-096edaf8f002"
      },
      "cell_type": "code",
      "source": [
        "trainX.shape, testX.shape"
      ],
      "execution_count": 146,
      "outputs": [
        {
          "output_type": "execute_result",
          "data": {
            "text/plain": [
              "((284, 1, 1), (121, 1, 1))"
            ]
          },
          "metadata": {
            "tags": []
          },
          "execution_count": 146
        }
      ]
    },
    {
      "metadata": {
        "id": "Me7An4tNO2ug",
        "colab_type": "code",
        "colab": {}
      },
      "cell_type": "code",
      "source": [
        "# Segment the train_data based on new window_size; split into train and validation (80/20)\n",
        "X_train, X_val, y_train, y_val = split(trainX, trainY, test_size = 0.20, random_state = 1120)"
      ],
      "execution_count": 0,
      "outputs": []
    },
    {
      "metadata": {
        "id": "5znK0vr_g2jM",
        "colab_type": "code",
        "colab": {
          "base_uri": "https://localhost:8080/",
          "height": 72
        },
        "outputId": "58fa92eb-21b0-47e6-cda4-c81cefce1c26"
      },
      "cell_type": "code",
      "source": [
        "X_train[:2]"
      ],
      "execution_count": 193,
      "outputs": [
        {
          "output_type": "execute_result",
          "data": {
            "text/plain": [
              "array([[[0.72631836]],\n",
              "\n",
              "       [[0.6368408 ]]], dtype=float32)"
            ]
          },
          "metadata": {
            "tags": []
          },
          "execution_count": 193
        }
      ]
    },
    {
      "metadata": {
        "id": "F8l7Z9auOTFW",
        "colab_type": "code",
        "colab": {
          "base_uri": "https://localhost:8080/",
          "height": 35
        },
        "outputId": "43ed0c0c-920c-42f7-c037-b3f8f64a95e8"
      },
      "cell_type": "code",
      "source": [
        "y_train.shape, y_val.shape"
      ],
      "execution_count": 189,
      "outputs": [
        {
          "output_type": "execute_result",
          "data": {
            "text/plain": [
              "((227, 1), (57, 1))"
            ]
          },
          "metadata": {
            "tags": []
          },
          "execution_count": 189
        }
      ]
    },
    {
      "metadata": {
        "id": "fZwsSMz8WMth",
        "colab_type": "code",
        "colab": {}
      },
      "cell_type": "code",
      "source": [
        "## Declare params for talos\n",
        "p = {\n",
        "    'first_neuron': [12, 24, 48],\n",
        "    'last_activation': [relu, elu],\n",
        "    'batch_size': [10, 20, 30],\n",
        "    'epochs' : [100,200,300]\n",
        "}"
      ],
      "execution_count": 0,
      "outputs": []
    },
    {
      "metadata": {
        "id": "lsu4oUXWWTf2",
        "colab_type": "code",
        "colab": {}
      },
      "cell_type": "code",
      "source": [
        "## Talos for optimizing\n",
        "# create and fit the LSTM network\n",
        "def talos_model(trainX, trainY, x_val, y_val, params):\n",
        "    model = Sequential()\n",
        "    model.add(LSTM(params['first_neuron'], input_shape=(1, look_back)))\n",
        "    model.add(Dense(1,activation=params['last_activation']))\n",
        "    model.compile(loss='mean_squared_error', optimizer='adam',metrics=['acc'])\n",
        "    out=model.fit(trainX, trainY, epochs=params['epochs'], batch_size=params['batch_size'], verbose=2,validation_data=[x_val, y_val])                    \n",
        "    return out, model\n",
        "    "
      ],
      "execution_count": 0,
      "outputs": []
    },
    {
      "metadata": {
        "id": "qnzNTvwzWV3I",
        "colab_type": "code",
        "colab": {}
      },
      "cell_type": "code",
      "source": [
        "\n",
        "h = ta.Scan(X_train, y_train, params= p, model=talos_model, x_val=X_val, y_val=y_val)"
      ],
      "execution_count": 0,
      "outputs": []
    },
    {
      "metadata": {
        "id": "n8s5fhuxZ5BX",
        "colab_type": "code",
        "outputId": "c85add45-16bb-4b41-bc8f-8b42545eb5c9",
        "colab": {
          "base_uri": "https://localhost:8080/",
          "height": 254
        }
      },
      "cell_type": "code",
      "source": [
        "# accessing the results data frame\n",
        "h.data.head()\n",
        "\n",
        "# accessing epoch entropy values for each round\n",
        "h.peak_epochs_df\n",
        "\n",
        "# access the summary details\n",
        "h.details"
      ],
      "execution_count": 195,
      "outputs": [
        {
          "output_type": "execute_result",
          "data": {
            "text/plain": [
              "complete_time            01/24/19/06:33\n",
              "experiment_name           012419062424_\n",
              "grid_downsample                    None\n",
              "random_method          uniform_mersenne\n",
              "reduce_loss                       False\n",
              "reduction_interval                   50\n",
              "reduction_method                   None\n",
              "reduction_metric                val_acc\n",
              "reduction_threshold                 0.2\n",
              "reduction_window                     20\n",
              "x_shape                     (227, 1, 1)\n",
              "y_shape                        (227, 1)\n",
              "dtype: object"
            ]
          },
          "metadata": {
            "tags": []
          },
          "execution_count": 195
        }
      ]
    },
    {
      "metadata": {
        "id": "H3bbmC0QlfFE",
        "colab_type": "code",
        "colab": {
          "base_uri": "https://localhost:8080/",
          "height": 35
        },
        "outputId": "a41d2972-e0c4-4ca9-b84b-dacec8d52480"
      },
      "cell_type": "code",
      "source": [
        "\n",
        "testY.shape"
      ],
      "execution_count": 214,
      "outputs": [
        {
          "output_type": "execute_result",
          "data": {
            "text/plain": [
              "(121, 1)"
            ]
          },
          "metadata": {
            "tags": []
          },
          "execution_count": 214
        }
      ]
    },
    {
      "metadata": {
        "id": "Gtt3t4i1Z5xQ",
        "colab_type": "code",
        "colab": {}
      },
      "cell_type": "code",
      "source": [
        "# use Scan object as input\n",
        "r = ta.Reporting(h)\n",
        "\n",
        "# use filename as input\n",
        "r = ta.Reporting('012419062424_.csv')"
      ],
      "execution_count": 0,
      "outputs": []
    },
    {
      "metadata": {
        "id": "g0iCrO6pVRaY",
        "colab_type": "code",
        "colab": {
          "base_uri": "https://localhost:8080/",
          "height": 1578
        },
        "outputId": "176da7d4-4030-4e30-ac32-98b3d144f617"
      },
      "cell_type": "code",
      "source": [
        "r.data.head(-3)"
      ],
      "execution_count": 197,
      "outputs": [
        {
          "output_type": "execute_result",
          "data": {
            "text/html": [
              "<div>\n",
              "<style scoped>\n",
              "    .dataframe tbody tr th:only-of-type {\n",
              "        vertical-align: middle;\n",
              "    }\n",
              "\n",
              "    .dataframe tbody tr th {\n",
              "        vertical-align: top;\n",
              "    }\n",
              "\n",
              "    .dataframe thead th {\n",
              "        text-align: right;\n",
              "    }\n",
              "</style>\n",
              "<table border=\"1\" class=\"dataframe\">\n",
              "  <thead>\n",
              "    <tr style=\"text-align: right;\">\n",
              "      <th></th>\n",
              "      <th>round_epochs</th>\n",
              "      <th>val_loss</th>\n",
              "      <th>val_acc</th>\n",
              "      <th>loss</th>\n",
              "      <th>acc</th>\n",
              "      <th>first_neuron</th>\n",
              "      <th>last_activation</th>\n",
              "      <th>batch_size</th>\n",
              "      <th>epochs</th>\n",
              "    </tr>\n",
              "  </thead>\n",
              "  <tbody>\n",
              "    <tr>\n",
              "      <th>0</th>\n",
              "      <td>300</td>\n",
              "      <td>0.002602</td>\n",
              "      <td>0.0</td>\n",
              "      <td>0.004961</td>\n",
              "      <td>0.013216</td>\n",
              "      <td>48</td>\n",
              "      <td>&lt;function relu at 0x7f9bc37ed0d0&gt;</td>\n",
              "      <td>10</td>\n",
              "      <td>300</td>\n",
              "    </tr>\n",
              "    <tr>\n",
              "      <th>1</th>\n",
              "      <td>200</td>\n",
              "      <td>0.307730</td>\n",
              "      <td>0.0</td>\n",
              "      <td>0.275389</td>\n",
              "      <td>0.013216</td>\n",
              "      <td>48</td>\n",
              "      <td>&lt;function relu at 0x7f9bc37ed0d0&gt;</td>\n",
              "      <td>20</td>\n",
              "      <td>200</td>\n",
              "    </tr>\n",
              "    <tr>\n",
              "      <th>2</th>\n",
              "      <td>300</td>\n",
              "      <td>0.002599</td>\n",
              "      <td>0.0</td>\n",
              "      <td>0.004987</td>\n",
              "      <td>0.013216</td>\n",
              "      <td>24</td>\n",
              "      <td>&lt;function elu at 0x7f9bc3861e18&gt;</td>\n",
              "      <td>10</td>\n",
              "      <td>300</td>\n",
              "    </tr>\n",
              "    <tr>\n",
              "      <th>3</th>\n",
              "      <td>300</td>\n",
              "      <td>0.307730</td>\n",
              "      <td>0.0</td>\n",
              "      <td>0.275389</td>\n",
              "      <td>0.013216</td>\n",
              "      <td>12</td>\n",
              "      <td>&lt;function relu at 0x7f9bc37ed0d0&gt;</td>\n",
              "      <td>30</td>\n",
              "      <td>300</td>\n",
              "    </tr>\n",
              "    <tr>\n",
              "      <th>4</th>\n",
              "      <td>100</td>\n",
              "      <td>0.002744</td>\n",
              "      <td>0.0</td>\n",
              "      <td>0.004997</td>\n",
              "      <td>0.013216</td>\n",
              "      <td>24</td>\n",
              "      <td>&lt;function elu at 0x7f9bc3861e18&gt;</td>\n",
              "      <td>20</td>\n",
              "      <td>100</td>\n",
              "    </tr>\n",
              "    <tr>\n",
              "      <th>5</th>\n",
              "      <td>100</td>\n",
              "      <td>0.002784</td>\n",
              "      <td>0.0</td>\n",
              "      <td>0.004996</td>\n",
              "      <td>0.013216</td>\n",
              "      <td>48</td>\n",
              "      <td>&lt;function elu at 0x7f9bc3861e18&gt;</td>\n",
              "      <td>30</td>\n",
              "      <td>100</td>\n",
              "    </tr>\n",
              "    <tr>\n",
              "      <th>6</th>\n",
              "      <td>300</td>\n",
              "      <td>0.002655</td>\n",
              "      <td>0.0</td>\n",
              "      <td>0.004935</td>\n",
              "      <td>0.013216</td>\n",
              "      <td>48</td>\n",
              "      <td>&lt;function relu at 0x7f9bc37ed0d0&gt;</td>\n",
              "      <td>20</td>\n",
              "      <td>300</td>\n",
              "    </tr>\n",
              "    <tr>\n",
              "      <th>7</th>\n",
              "      <td>200</td>\n",
              "      <td>0.002654</td>\n",
              "      <td>0.0</td>\n",
              "      <td>0.004986</td>\n",
              "      <td>0.013216</td>\n",
              "      <td>48</td>\n",
              "      <td>&lt;function elu at 0x7f9bc3861e18&gt;</td>\n",
              "      <td>20</td>\n",
              "      <td>200</td>\n",
              "    </tr>\n",
              "    <tr>\n",
              "      <th>8</th>\n",
              "      <td>300</td>\n",
              "      <td>0.002678</td>\n",
              "      <td>0.0</td>\n",
              "      <td>0.004966</td>\n",
              "      <td>0.013216</td>\n",
              "      <td>48</td>\n",
              "      <td>&lt;function relu at 0x7f9bc37ed0d0&gt;</td>\n",
              "      <td>30</td>\n",
              "      <td>300</td>\n",
              "    </tr>\n",
              "    <tr>\n",
              "      <th>9</th>\n",
              "      <td>200</td>\n",
              "      <td>0.002591</td>\n",
              "      <td>0.0</td>\n",
              "      <td>0.004996</td>\n",
              "      <td>0.013216</td>\n",
              "      <td>12</td>\n",
              "      <td>&lt;function elu at 0x7f9bc3861e18&gt;</td>\n",
              "      <td>10</td>\n",
              "      <td>200</td>\n",
              "    </tr>\n",
              "    <tr>\n",
              "      <th>10</th>\n",
              "      <td>200</td>\n",
              "      <td>0.002733</td>\n",
              "      <td>0.0</td>\n",
              "      <td>0.004986</td>\n",
              "      <td>0.013216</td>\n",
              "      <td>24</td>\n",
              "      <td>&lt;function elu at 0x7f9bc3861e18&gt;</td>\n",
              "      <td>30</td>\n",
              "      <td>200</td>\n",
              "    </tr>\n",
              "    <tr>\n",
              "      <th>11</th>\n",
              "      <td>100</td>\n",
              "      <td>0.307730</td>\n",
              "      <td>0.0</td>\n",
              "      <td>0.275389</td>\n",
              "      <td>0.013216</td>\n",
              "      <td>12</td>\n",
              "      <td>&lt;function relu at 0x7f9bc37ed0d0&gt;</td>\n",
              "      <td>10</td>\n",
              "      <td>100</td>\n",
              "    </tr>\n",
              "    <tr>\n",
              "      <th>12</th>\n",
              "      <td>300</td>\n",
              "      <td>0.002718</td>\n",
              "      <td>0.0</td>\n",
              "      <td>0.004977</td>\n",
              "      <td>0.013216</td>\n",
              "      <td>12</td>\n",
              "      <td>&lt;function elu at 0x7f9bc3861e18&gt;</td>\n",
              "      <td>30</td>\n",
              "      <td>300</td>\n",
              "    </tr>\n",
              "    <tr>\n",
              "      <th>13</th>\n",
              "      <td>300</td>\n",
              "      <td>0.002678</td>\n",
              "      <td>0.0</td>\n",
              "      <td>0.004975</td>\n",
              "      <td>0.013216</td>\n",
              "      <td>12</td>\n",
              "      <td>&lt;function relu at 0x7f9bc37ed0d0&gt;</td>\n",
              "      <td>20</td>\n",
              "      <td>300</td>\n",
              "    </tr>\n",
              "    <tr>\n",
              "      <th>14</th>\n",
              "      <td>200</td>\n",
              "      <td>0.002700</td>\n",
              "      <td>0.0</td>\n",
              "      <td>0.004994</td>\n",
              "      <td>0.013216</td>\n",
              "      <td>24</td>\n",
              "      <td>&lt;function elu at 0x7f9bc3861e18&gt;</td>\n",
              "      <td>20</td>\n",
              "      <td>200</td>\n",
              "    </tr>\n",
              "    <tr>\n",
              "      <th>15</th>\n",
              "      <td>300</td>\n",
              "      <td>0.002669</td>\n",
              "      <td>0.0</td>\n",
              "      <td>0.004960</td>\n",
              "      <td>0.013216</td>\n",
              "      <td>24</td>\n",
              "      <td>&lt;function elu at 0x7f9bc3861e18&gt;</td>\n",
              "      <td>20</td>\n",
              "      <td>300</td>\n",
              "    </tr>\n",
              "    <tr>\n",
              "      <th>16</th>\n",
              "      <td>200</td>\n",
              "      <td>0.307730</td>\n",
              "      <td>0.0</td>\n",
              "      <td>0.275389</td>\n",
              "      <td>0.013216</td>\n",
              "      <td>24</td>\n",
              "      <td>&lt;function relu at 0x7f9bc37ed0d0&gt;</td>\n",
              "      <td>10</td>\n",
              "      <td>200</td>\n",
              "    </tr>\n",
              "    <tr>\n",
              "      <th>17</th>\n",
              "      <td>200</td>\n",
              "      <td>0.307730</td>\n",
              "      <td>0.0</td>\n",
              "      <td>0.275389</td>\n",
              "      <td>0.013216</td>\n",
              "      <td>12</td>\n",
              "      <td>&lt;function relu at 0x7f9bc37ed0d0&gt;</td>\n",
              "      <td>30</td>\n",
              "      <td>200</td>\n",
              "    </tr>\n",
              "    <tr>\n",
              "      <th>18</th>\n",
              "      <td>300</td>\n",
              "      <td>0.307730</td>\n",
              "      <td>0.0</td>\n",
              "      <td>0.275389</td>\n",
              "      <td>0.013216</td>\n",
              "      <td>24</td>\n",
              "      <td>&lt;function relu at 0x7f9bc37ed0d0&gt;</td>\n",
              "      <td>10</td>\n",
              "      <td>300</td>\n",
              "    </tr>\n",
              "    <tr>\n",
              "      <th>19</th>\n",
              "      <td>300</td>\n",
              "      <td>0.002630</td>\n",
              "      <td>0.0</td>\n",
              "      <td>0.004992</td>\n",
              "      <td>0.013216</td>\n",
              "      <td>12</td>\n",
              "      <td>&lt;function relu at 0x7f9bc37ed0d0&gt;</td>\n",
              "      <td>10</td>\n",
              "      <td>300</td>\n",
              "    </tr>\n",
              "    <tr>\n",
              "      <th>20</th>\n",
              "      <td>100</td>\n",
              "      <td>0.002810</td>\n",
              "      <td>0.0</td>\n",
              "      <td>0.005014</td>\n",
              "      <td>0.013216</td>\n",
              "      <td>24</td>\n",
              "      <td>&lt;function relu at 0x7f9bc37ed0d0&gt;</td>\n",
              "      <td>30</td>\n",
              "      <td>100</td>\n",
              "    </tr>\n",
              "    <tr>\n",
              "      <th>21</th>\n",
              "      <td>200</td>\n",
              "      <td>0.307730</td>\n",
              "      <td>0.0</td>\n",
              "      <td>0.275389</td>\n",
              "      <td>0.013216</td>\n",
              "      <td>24</td>\n",
              "      <td>&lt;function relu at 0x7f9bc37ed0d0&gt;</td>\n",
              "      <td>30</td>\n",
              "      <td>200</td>\n",
              "    </tr>\n",
              "    <tr>\n",
              "      <th>22</th>\n",
              "      <td>100</td>\n",
              "      <td>0.307730</td>\n",
              "      <td>0.0</td>\n",
              "      <td>0.275389</td>\n",
              "      <td>0.013216</td>\n",
              "      <td>12</td>\n",
              "      <td>&lt;function relu at 0x7f9bc37ed0d0&gt;</td>\n",
              "      <td>20</td>\n",
              "      <td>100</td>\n",
              "    </tr>\n",
              "    <tr>\n",
              "      <th>23</th>\n",
              "      <td>200</td>\n",
              "      <td>0.307730</td>\n",
              "      <td>0.0</td>\n",
              "      <td>0.275389</td>\n",
              "      <td>0.013216</td>\n",
              "      <td>48</td>\n",
              "      <td>&lt;function relu at 0x7f9bc37ed0d0&gt;</td>\n",
              "      <td>30</td>\n",
              "      <td>200</td>\n",
              "    </tr>\n",
              "    <tr>\n",
              "      <th>24</th>\n",
              "      <td>300</td>\n",
              "      <td>0.002685</td>\n",
              "      <td>0.0</td>\n",
              "      <td>0.004978</td>\n",
              "      <td>0.013216</td>\n",
              "      <td>48</td>\n",
              "      <td>&lt;function elu at 0x7f9bc3861e18&gt;</td>\n",
              "      <td>30</td>\n",
              "      <td>300</td>\n",
              "    </tr>\n",
              "    <tr>\n",
              "      <th>25</th>\n",
              "      <td>100</td>\n",
              "      <td>0.002814</td>\n",
              "      <td>0.0</td>\n",
              "      <td>0.005033</td>\n",
              "      <td>0.013216</td>\n",
              "      <td>24</td>\n",
              "      <td>&lt;function elu at 0x7f9bc3861e18&gt;</td>\n",
              "      <td>30</td>\n",
              "      <td>100</td>\n",
              "    </tr>\n",
              "    <tr>\n",
              "      <th>26</th>\n",
              "      <td>100</td>\n",
              "      <td>0.002776</td>\n",
              "      <td>0.0</td>\n",
              "      <td>0.005073</td>\n",
              "      <td>0.013216</td>\n",
              "      <td>12</td>\n",
              "      <td>&lt;function elu at 0x7f9bc3861e18&gt;</td>\n",
              "      <td>20</td>\n",
              "      <td>100</td>\n",
              "    </tr>\n",
              "    <tr>\n",
              "      <th>27</th>\n",
              "      <td>200</td>\n",
              "      <td>0.002601</td>\n",
              "      <td>0.0</td>\n",
              "      <td>0.004981</td>\n",
              "      <td>0.013216</td>\n",
              "      <td>48</td>\n",
              "      <td>&lt;function relu at 0x7f9bc37ed0d0&gt;</td>\n",
              "      <td>10</td>\n",
              "      <td>200</td>\n",
              "    </tr>\n",
              "    <tr>\n",
              "      <th>28</th>\n",
              "      <td>100</td>\n",
              "      <td>0.307730</td>\n",
              "      <td>0.0</td>\n",
              "      <td>0.275389</td>\n",
              "      <td>0.013216</td>\n",
              "      <td>48</td>\n",
              "      <td>&lt;function relu at 0x7f9bc37ed0d0&gt;</td>\n",
              "      <td>30</td>\n",
              "      <td>100</td>\n",
              "    </tr>\n",
              "    <tr>\n",
              "      <th>29</th>\n",
              "      <td>100</td>\n",
              "      <td>0.004141</td>\n",
              "      <td>0.0</td>\n",
              "      <td>0.006742</td>\n",
              "      <td>0.013216</td>\n",
              "      <td>12</td>\n",
              "      <td>&lt;function elu at 0x7f9bc3861e18&gt;</td>\n",
              "      <td>30</td>\n",
              "      <td>100</td>\n",
              "    </tr>\n",
              "    <tr>\n",
              "      <th>30</th>\n",
              "      <td>300</td>\n",
              "      <td>0.002717</td>\n",
              "      <td>0.0</td>\n",
              "      <td>0.004983</td>\n",
              "      <td>0.013216</td>\n",
              "      <td>24</td>\n",
              "      <td>&lt;function elu at 0x7f9bc3861e18&gt;</td>\n",
              "      <td>30</td>\n",
              "      <td>300</td>\n",
              "    </tr>\n",
              "    <tr>\n",
              "      <th>31</th>\n",
              "      <td>300</td>\n",
              "      <td>0.002633</td>\n",
              "      <td>0.0</td>\n",
              "      <td>0.004976</td>\n",
              "      <td>0.013216</td>\n",
              "      <td>48</td>\n",
              "      <td>&lt;function elu at 0x7f9bc3861e18&gt;</td>\n",
              "      <td>20</td>\n",
              "      <td>300</td>\n",
              "    </tr>\n",
              "    <tr>\n",
              "      <th>32</th>\n",
              "      <td>100</td>\n",
              "      <td>0.307730</td>\n",
              "      <td>0.0</td>\n",
              "      <td>0.275389</td>\n",
              "      <td>0.013216</td>\n",
              "      <td>48</td>\n",
              "      <td>&lt;function relu at 0x7f9bc37ed0d0&gt;</td>\n",
              "      <td>20</td>\n",
              "      <td>100</td>\n",
              "    </tr>\n",
              "    <tr>\n",
              "      <th>33</th>\n",
              "      <td>100</td>\n",
              "      <td>0.307730</td>\n",
              "      <td>0.0</td>\n",
              "      <td>0.275389</td>\n",
              "      <td>0.013216</td>\n",
              "      <td>12</td>\n",
              "      <td>&lt;function relu at 0x7f9bc37ed0d0&gt;</td>\n",
              "      <td>30</td>\n",
              "      <td>100</td>\n",
              "    </tr>\n",
              "    <tr>\n",
              "      <th>34</th>\n",
              "      <td>200</td>\n",
              "      <td>0.002663</td>\n",
              "      <td>0.0</td>\n",
              "      <td>0.004980</td>\n",
              "      <td>0.013216</td>\n",
              "      <td>24</td>\n",
              "      <td>&lt;function relu at 0x7f9bc37ed0d0&gt;</td>\n",
              "      <td>20</td>\n",
              "      <td>200</td>\n",
              "    </tr>\n",
              "    <tr>\n",
              "      <th>35</th>\n",
              "      <td>200</td>\n",
              "      <td>0.002686</td>\n",
              "      <td>0.0</td>\n",
              "      <td>0.004977</td>\n",
              "      <td>0.013216</td>\n",
              "      <td>12</td>\n",
              "      <td>&lt;function elu at 0x7f9bc3861e18&gt;</td>\n",
              "      <td>20</td>\n",
              "      <td>200</td>\n",
              "    </tr>\n",
              "    <tr>\n",
              "      <th>36</th>\n",
              "      <td>100</td>\n",
              "      <td>0.002739</td>\n",
              "      <td>0.0</td>\n",
              "      <td>0.005003</td>\n",
              "      <td>0.013216</td>\n",
              "      <td>24</td>\n",
              "      <td>&lt;function relu at 0x7f9bc37ed0d0&gt;</td>\n",
              "      <td>20</td>\n",
              "      <td>100</td>\n",
              "    </tr>\n",
              "    <tr>\n",
              "      <th>37</th>\n",
              "      <td>300</td>\n",
              "      <td>0.002649</td>\n",
              "      <td>0.0</td>\n",
              "      <td>0.004980</td>\n",
              "      <td>0.013216</td>\n",
              "      <td>12</td>\n",
              "      <td>&lt;function elu at 0x7f9bc3861e18&gt;</td>\n",
              "      <td>10</td>\n",
              "      <td>300</td>\n",
              "    </tr>\n",
              "    <tr>\n",
              "      <th>38</th>\n",
              "      <td>100</td>\n",
              "      <td>0.002626</td>\n",
              "      <td>0.0</td>\n",
              "      <td>0.005009</td>\n",
              "      <td>0.013216</td>\n",
              "      <td>48</td>\n",
              "      <td>&lt;function relu at 0x7f9bc37ed0d0&gt;</td>\n",
              "      <td>10</td>\n",
              "      <td>100</td>\n",
              "    </tr>\n",
              "    <tr>\n",
              "      <th>39</th>\n",
              "      <td>300</td>\n",
              "      <td>0.002671</td>\n",
              "      <td>0.0</td>\n",
              "      <td>0.004972</td>\n",
              "      <td>0.013216</td>\n",
              "      <td>12</td>\n",
              "      <td>&lt;function elu at 0x7f9bc3861e18&gt;</td>\n",
              "      <td>20</td>\n",
              "      <td>300</td>\n",
              "    </tr>\n",
              "    <tr>\n",
              "      <th>40</th>\n",
              "      <td>300</td>\n",
              "      <td>0.002603</td>\n",
              "      <td>0.0</td>\n",
              "      <td>0.004939</td>\n",
              "      <td>0.013216</td>\n",
              "      <td>48</td>\n",
              "      <td>&lt;function elu at 0x7f9bc3861e18&gt;</td>\n",
              "      <td>10</td>\n",
              "      <td>300</td>\n",
              "    </tr>\n",
              "    <tr>\n",
              "      <th>41</th>\n",
              "      <td>300</td>\n",
              "      <td>0.002637</td>\n",
              "      <td>0.0</td>\n",
              "      <td>0.004986</td>\n",
              "      <td>0.013216</td>\n",
              "      <td>24</td>\n",
              "      <td>&lt;function relu at 0x7f9bc37ed0d0&gt;</td>\n",
              "      <td>20</td>\n",
              "      <td>300</td>\n",
              "    </tr>\n",
              "    <tr>\n",
              "      <th>42</th>\n",
              "      <td>200</td>\n",
              "      <td>0.002602</td>\n",
              "      <td>0.0</td>\n",
              "      <td>0.004993</td>\n",
              "      <td>0.013216</td>\n",
              "      <td>24</td>\n",
              "      <td>&lt;function elu at 0x7f9bc3861e18&gt;</td>\n",
              "      <td>10</td>\n",
              "      <td>200</td>\n",
              "    </tr>\n",
              "    <tr>\n",
              "      <th>43</th>\n",
              "      <td>100</td>\n",
              "      <td>0.002704</td>\n",
              "      <td>0.0</td>\n",
              "      <td>0.005001</td>\n",
              "      <td>0.013216</td>\n",
              "      <td>24</td>\n",
              "      <td>&lt;function elu at 0x7f9bc3861e18&gt;</td>\n",
              "      <td>10</td>\n",
              "      <td>100</td>\n",
              "    </tr>\n",
              "    <tr>\n",
              "      <th>44</th>\n",
              "      <td>200</td>\n",
              "      <td>0.002666</td>\n",
              "      <td>0.0</td>\n",
              "      <td>0.004986</td>\n",
              "      <td>0.013216</td>\n",
              "      <td>12</td>\n",
              "      <td>&lt;function relu at 0x7f9bc37ed0d0&gt;</td>\n",
              "      <td>20</td>\n",
              "      <td>200</td>\n",
              "    </tr>\n",
              "    <tr>\n",
              "      <th>45</th>\n",
              "      <td>100</td>\n",
              "      <td>0.002623</td>\n",
              "      <td>0.0</td>\n",
              "      <td>0.005001</td>\n",
              "      <td>0.013216</td>\n",
              "      <td>48</td>\n",
              "      <td>&lt;function elu at 0x7f9bc3861e18&gt;</td>\n",
              "      <td>10</td>\n",
              "      <td>100</td>\n",
              "    </tr>\n",
              "    <tr>\n",
              "      <th>46</th>\n",
              "      <td>100</td>\n",
              "      <td>0.307730</td>\n",
              "      <td>0.0</td>\n",
              "      <td>0.275389</td>\n",
              "      <td>0.013216</td>\n",
              "      <td>24</td>\n",
              "      <td>&lt;function relu at 0x7f9bc37ed0d0&gt;</td>\n",
              "      <td>10</td>\n",
              "      <td>100</td>\n",
              "    </tr>\n",
              "    <tr>\n",
              "      <th>47</th>\n",
              "      <td>300</td>\n",
              "      <td>0.307730</td>\n",
              "      <td>0.0</td>\n",
              "      <td>0.275389</td>\n",
              "      <td>0.013216</td>\n",
              "      <td>24</td>\n",
              "      <td>&lt;function relu at 0x7f9bc37ed0d0&gt;</td>\n",
              "      <td>30</td>\n",
              "      <td>300</td>\n",
              "    </tr>\n",
              "    <tr>\n",
              "      <th>48</th>\n",
              "      <td>200</td>\n",
              "      <td>0.002770</td>\n",
              "      <td>0.0</td>\n",
              "      <td>0.004991</td>\n",
              "      <td>0.013216</td>\n",
              "      <td>12</td>\n",
              "      <td>&lt;function elu at 0x7f9bc3861e18&gt;</td>\n",
              "      <td>30</td>\n",
              "      <td>200</td>\n",
              "    </tr>\n",
              "    <tr>\n",
              "      <th>49</th>\n",
              "      <td>100</td>\n",
              "      <td>0.002676</td>\n",
              "      <td>0.0</td>\n",
              "      <td>0.004994</td>\n",
              "      <td>0.013216</td>\n",
              "      <td>12</td>\n",
              "      <td>&lt;function elu at 0x7f9bc3861e18&gt;</td>\n",
              "      <td>10</td>\n",
              "      <td>100</td>\n",
              "    </tr>\n",
              "    <tr>\n",
              "      <th>50</th>\n",
              "      <td>200</td>\n",
              "      <td>0.002729</td>\n",
              "      <td>0.0</td>\n",
              "      <td>0.004988</td>\n",
              "      <td>0.013216</td>\n",
              "      <td>48</td>\n",
              "      <td>&lt;function elu at 0x7f9bc3861e18&gt;</td>\n",
              "      <td>30</td>\n",
              "      <td>200</td>\n",
              "    </tr>\n",
              "  </tbody>\n",
              "</table>\n",
              "</div>"
            ],
            "text/plain": [
              "    round_epochs  val_loss  val_acc      loss       acc  first_neuron  \\\n",
              "0            300  0.002602      0.0  0.004961  0.013216            48   \n",
              "1            200  0.307730      0.0  0.275389  0.013216            48   \n",
              "2            300  0.002599      0.0  0.004987  0.013216            24   \n",
              "3            300  0.307730      0.0  0.275389  0.013216            12   \n",
              "4            100  0.002744      0.0  0.004997  0.013216            24   \n",
              "5            100  0.002784      0.0  0.004996  0.013216            48   \n",
              "6            300  0.002655      0.0  0.004935  0.013216            48   \n",
              "7            200  0.002654      0.0  0.004986  0.013216            48   \n",
              "8            300  0.002678      0.0  0.004966  0.013216            48   \n",
              "9            200  0.002591      0.0  0.004996  0.013216            12   \n",
              "10           200  0.002733      0.0  0.004986  0.013216            24   \n",
              "11           100  0.307730      0.0  0.275389  0.013216            12   \n",
              "12           300  0.002718      0.0  0.004977  0.013216            12   \n",
              "13           300  0.002678      0.0  0.004975  0.013216            12   \n",
              "14           200  0.002700      0.0  0.004994  0.013216            24   \n",
              "15           300  0.002669      0.0  0.004960  0.013216            24   \n",
              "16           200  0.307730      0.0  0.275389  0.013216            24   \n",
              "17           200  0.307730      0.0  0.275389  0.013216            12   \n",
              "18           300  0.307730      0.0  0.275389  0.013216            24   \n",
              "19           300  0.002630      0.0  0.004992  0.013216            12   \n",
              "20           100  0.002810      0.0  0.005014  0.013216            24   \n",
              "21           200  0.307730      0.0  0.275389  0.013216            24   \n",
              "22           100  0.307730      0.0  0.275389  0.013216            12   \n",
              "23           200  0.307730      0.0  0.275389  0.013216            48   \n",
              "24           300  0.002685      0.0  0.004978  0.013216            48   \n",
              "25           100  0.002814      0.0  0.005033  0.013216            24   \n",
              "26           100  0.002776      0.0  0.005073  0.013216            12   \n",
              "27           200  0.002601      0.0  0.004981  0.013216            48   \n",
              "28           100  0.307730      0.0  0.275389  0.013216            48   \n",
              "29           100  0.004141      0.0  0.006742  0.013216            12   \n",
              "30           300  0.002717      0.0  0.004983  0.013216            24   \n",
              "31           300  0.002633      0.0  0.004976  0.013216            48   \n",
              "32           100  0.307730      0.0  0.275389  0.013216            48   \n",
              "33           100  0.307730      0.0  0.275389  0.013216            12   \n",
              "34           200  0.002663      0.0  0.004980  0.013216            24   \n",
              "35           200  0.002686      0.0  0.004977  0.013216            12   \n",
              "36           100  0.002739      0.0  0.005003  0.013216            24   \n",
              "37           300  0.002649      0.0  0.004980  0.013216            12   \n",
              "38           100  0.002626      0.0  0.005009  0.013216            48   \n",
              "39           300  0.002671      0.0  0.004972  0.013216            12   \n",
              "40           300  0.002603      0.0  0.004939  0.013216            48   \n",
              "41           300  0.002637      0.0  0.004986  0.013216            24   \n",
              "42           200  0.002602      0.0  0.004993  0.013216            24   \n",
              "43           100  0.002704      0.0  0.005001  0.013216            24   \n",
              "44           200  0.002666      0.0  0.004986  0.013216            12   \n",
              "45           100  0.002623      0.0  0.005001  0.013216            48   \n",
              "46           100  0.307730      0.0  0.275389  0.013216            24   \n",
              "47           300  0.307730      0.0  0.275389  0.013216            24   \n",
              "48           200  0.002770      0.0  0.004991  0.013216            12   \n",
              "49           100  0.002676      0.0  0.004994  0.013216            12   \n",
              "50           200  0.002729      0.0  0.004988  0.013216            48   \n",
              "\n",
              "                      last_activation  batch_size  epochs  \n",
              "0   <function relu at 0x7f9bc37ed0d0>          10     300  \n",
              "1   <function relu at 0x7f9bc37ed0d0>          20     200  \n",
              "2    <function elu at 0x7f9bc3861e18>          10     300  \n",
              "3   <function relu at 0x7f9bc37ed0d0>          30     300  \n",
              "4    <function elu at 0x7f9bc3861e18>          20     100  \n",
              "5    <function elu at 0x7f9bc3861e18>          30     100  \n",
              "6   <function relu at 0x7f9bc37ed0d0>          20     300  \n",
              "7    <function elu at 0x7f9bc3861e18>          20     200  \n",
              "8   <function relu at 0x7f9bc37ed0d0>          30     300  \n",
              "9    <function elu at 0x7f9bc3861e18>          10     200  \n",
              "10   <function elu at 0x7f9bc3861e18>          30     200  \n",
              "11  <function relu at 0x7f9bc37ed0d0>          10     100  \n",
              "12   <function elu at 0x7f9bc3861e18>          30     300  \n",
              "13  <function relu at 0x7f9bc37ed0d0>          20     300  \n",
              "14   <function elu at 0x7f9bc3861e18>          20     200  \n",
              "15   <function elu at 0x7f9bc3861e18>          20     300  \n",
              "16  <function relu at 0x7f9bc37ed0d0>          10     200  \n",
              "17  <function relu at 0x7f9bc37ed0d0>          30     200  \n",
              "18  <function relu at 0x7f9bc37ed0d0>          10     300  \n",
              "19  <function relu at 0x7f9bc37ed0d0>          10     300  \n",
              "20  <function relu at 0x7f9bc37ed0d0>          30     100  \n",
              "21  <function relu at 0x7f9bc37ed0d0>          30     200  \n",
              "22  <function relu at 0x7f9bc37ed0d0>          20     100  \n",
              "23  <function relu at 0x7f9bc37ed0d0>          30     200  \n",
              "24   <function elu at 0x7f9bc3861e18>          30     300  \n",
              "25   <function elu at 0x7f9bc3861e18>          30     100  \n",
              "26   <function elu at 0x7f9bc3861e18>          20     100  \n",
              "27  <function relu at 0x7f9bc37ed0d0>          10     200  \n",
              "28  <function relu at 0x7f9bc37ed0d0>          30     100  \n",
              "29   <function elu at 0x7f9bc3861e18>          30     100  \n",
              "30   <function elu at 0x7f9bc3861e18>          30     300  \n",
              "31   <function elu at 0x7f9bc3861e18>          20     300  \n",
              "32  <function relu at 0x7f9bc37ed0d0>          20     100  \n",
              "33  <function relu at 0x7f9bc37ed0d0>          30     100  \n",
              "34  <function relu at 0x7f9bc37ed0d0>          20     200  \n",
              "35   <function elu at 0x7f9bc3861e18>          20     200  \n",
              "36  <function relu at 0x7f9bc37ed0d0>          20     100  \n",
              "37   <function elu at 0x7f9bc3861e18>          10     300  \n",
              "38  <function relu at 0x7f9bc37ed0d0>          10     100  \n",
              "39   <function elu at 0x7f9bc3861e18>          20     300  \n",
              "40   <function elu at 0x7f9bc3861e18>          10     300  \n",
              "41  <function relu at 0x7f9bc37ed0d0>          20     300  \n",
              "42   <function elu at 0x7f9bc3861e18>          10     200  \n",
              "43   <function elu at 0x7f9bc3861e18>          10     100  \n",
              "44  <function relu at 0x7f9bc37ed0d0>          20     200  \n",
              "45   <function elu at 0x7f9bc3861e18>          10     100  \n",
              "46  <function relu at 0x7f9bc37ed0d0>          10     100  \n",
              "47  <function relu at 0x7f9bc37ed0d0>          30     300  \n",
              "48   <function elu at 0x7f9bc3861e18>          30     200  \n",
              "49   <function elu at 0x7f9bc3861e18>          10     100  \n",
              "50   <function elu at 0x7f9bc3861e18>          30     200  "
            ]
          },
          "metadata": {
            "tags": []
          },
          "execution_count": 197
        }
      ]
    },
    {
      "metadata": {
        "id": "B-XiAfFkgyw-",
        "colab_type": "code",
        "outputId": "65195a99-8281-4963-bc31-2949fba8b801",
        "colab": {
          "base_uri": "https://localhost:8080/",
          "height": 90
        }
      },
      "cell_type": "code",
      "source": [
        "\n",
        "# access the dataframe with the results\n",
        "r.data.head(-3)\n",
        "\n",
        "# get the number of rounds in the Scan\n",
        "r.rounds()\n",
        "\n",
        "# get the highest result ('val_acc' by default)\n",
        "r.high()\n",
        "\n",
        "# get the highest result for any metric\n",
        "r.high('acc')\n",
        "\n",
        "# get the round with the best result\n",
        "r.rounds2high()\n",
        "\n",
        "# get the best paramaters\n",
        "r.best_params()\n",
        "\n",
        "# get correlation for hyperparameters against a metric\n",
        "r.correlate('val_loss')"
      ],
      "execution_count": 60,
      "outputs": [
        {
          "output_type": "execute_result",
          "data": {
            "text/plain": [
              "first_neuron   -0.033338\n",
              "batch_size     -0.100898\n",
              "epochs         -0.050929\n",
              "Name: val_loss, dtype: float64"
            ]
          },
          "metadata": {
            "tags": []
          },
          "execution_count": 60
        }
      ]
    },
    {
      "metadata": {
        "id": "Mtb6lt8mTanM",
        "colab_type": "code",
        "colab": {}
      },
      "cell_type": "code",
      "source": [
        "r.best_params()[1]"
      ],
      "execution_count": 0,
      "outputs": []
    },
    {
      "metadata": {
        "id": "5XqcTlSAhY4K",
        "colab_type": "code",
        "colab": {}
      },
      "cell_type": "code",
      "source": [
        "# a regression plot for two dimensions \n",
        "r.plot_regs()\n",
        "\n",
        "# line plot\n",
        "r.plot_line()\n",
        "\n",
        "# a simple histogram\n",
        "r.plot_hist(bins=50)\n",
        "\n",
        "# heatmap correlation\n",
        "r.plot_corr()\n",
        "\n",
        "# a four dimensional bar grid\n",
        "r.plot_bars('batch_size', 'acc', 'epochs', 'first_neuron')"
      ],
      "execution_count": 0,
      "outputs": []
    },
    {
      "metadata": {
        "id": "qiD_VE8eWkiN",
        "colab_type": "code",
        "colab": {}
      },
      "cell_type": "code",
      "source": [
        "# Predict on train and test\n",
        "p=ta.Predict(h)\n",
        "\n",
        "trainPredict = p.predict(X_train, metric='val_acc')\n",
        "valPredict = p.predict(X_val, metric='val_acc')\n",
        "testPredict = p.predict(testX, metric='val_acc')\n"
      ],
      "execution_count": 0,
      "outputs": []
    },
    {
      "metadata": {
        "id": "RGP3ekP9Yvv4",
        "colab_type": "code",
        "colab": {
          "base_uri": "https://localhost:8080/",
          "height": 35
        },
        "outputId": "4600e273-0468-40ab-acca-271162a18c06"
      },
      "cell_type": "code",
      "source": [
        "trainPredict.shape, y_train.shape\n"
      ],
      "execution_count": 219,
      "outputs": [
        {
          "output_type": "execute_result",
          "data": {
            "text/plain": [
              "((227, 1), (227, 1))"
            ]
          },
          "metadata": {
            "tags": []
          },
          "execution_count": 219
        }
      ]
    },
    {
      "metadata": {
        "id": "PnltfdJOZTd9",
        "colab_type": "code",
        "colab": {}
      },
      "cell_type": "code",
      "source": [
        "# invert predictions\n",
        "\n",
        "trainPredict = scaler.inverse_transform(trainPredict)\n",
        "y_train = scaler.inverse_transform(y_train)\n",
        "\n",
        "\n",
        "testPredict = scaler.inverse_transform(testPredict)\n",
        "testY = scaler.inverse_transform(testY)"
      ],
      "execution_count": 0,
      "outputs": []
    },
    {
      "metadata": {
        "id": "023t5oPwaxeX",
        "colab_type": "code",
        "colab": {
          "base_uri": "https://localhost:8080/",
          "height": 54
        },
        "outputId": "01a6cd7d-5af7-42e5-b19a-4ced49a9917b"
      },
      "cell_type": "code",
      "source": [
        "# calculate root mean squared error\n",
        "trainScore = math.sqrt(mean_squared_error(y_train, trainPredict))\n",
        "print('Train Score: %.2f RMSE' % (trainScore))\n",
        "testScore = math.sqrt(mean_squared_error(testY, testPredict))\n",
        "print('Test Score: %.2f RMSE' % (testScore))"
      ],
      "execution_count": 220,
      "outputs": [
        {
          "output_type": "stream",
          "text": [
            "Train Score: 0.14 RMSE\n",
            "Test Score: 0.10 RMSE\n"
          ],
          "name": "stdout"
        }
      ]
    },
    {
      "metadata": {
        "id": "qmXTfEItcfo6",
        "colab_type": "code",
        "colab": {
          "base_uri": "https://localhost:8080/",
          "height": 293
        },
        "outputId": "e160fdf7-231f-4f4f-945e-35d65c8b63d6"
      },
      "cell_type": "code",
      "source": [
        "plt.plot(testY)\n",
        "plt.plot(testPredict)\n"
      ],
      "execution_count": 228,
      "outputs": [
        {
          "output_type": "execute_result",
          "data": {
            "text/plain": [
              "[<matplotlib.lines.Line2D at 0x7f9bbe543208>]"
            ]
          },
          "metadata": {
            "tags": []
          },
          "execution_count": 228
        },
        {
          "output_type": "display_data",
          "data": {
            "image/png": "[encoded data removed]",
            "text/plain": [
              "<Figure size 432x288 with 1 Axes>"
            ]
          },
          "metadata": {
            "tags": []
          }
        }
      ]
    },
    {
      "metadata": {
        "id": "HyLSdqi3cigf",
        "colab_type": "code",
        "colab": {}
      },
      "cell_type": "code",
      "source": [
        "%matplotlib inline"
      ],
      "execution_count": 0,
      "outputs": []
    },
    {
      "metadata": {
        "id": "xUcdPjIqZ-Xp",
        "colab_type": "code",
        "colab": {}
      },
      "cell_type": "code",
      "source": [
        "\n",
        "# evaluating model\n",
        "\n",
        "e = ta.Evaluate(h)\n",
        "e.evaluate(X_train, y_train, folds=10, metric='metric='val_acc'')\n",
        "ta.Deploy(h, 'out1');\n",
        "## Restore model from zip file\n",
        "i2 = ta.Restore('i2.zip')\n",
        "\n",
        "## Predict the data using saved model\n",
        "#trainPredict=i2.model.predict(trainX)\n",
        "testPredict=i2.model.predict(testX)"
      ],
      "execution_count": 0,
      "outputs": []
    }
  ]
}